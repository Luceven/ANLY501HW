{
 "cells": [
  {
   "cell_type": "code",
   "execution_count": 124,
   "metadata": {
    "collapsed": true
   },
   "outputs": [],
   "source": [
    "# ANLY501 - HW4\n",
    "# Author: Kate Zeng\n",
    "\n",
    "import pandas as pd\n",
    "import numpy as np\n",
    "import math\n",
    "import matplotlib.pyplot as plt\n",
    "plt.style.use('seaborn-deep')\n",
    "%matplotlib inline"
   ]
  },
  {
   "cell_type": "code",
   "execution_count": 125,
   "metadata": {
    "collapsed": true
   },
   "outputs": [],
   "source": [
    "# load data\n",
    "data = pd.read_csv('NY_Times_LARGE.csv')"
   ]
  },
  {
   "cell_type": "code",
   "execution_count": 126,
   "metadata": {},
   "outputs": [],
   "source": [
    "# preprocessing\n",
    "def create_test_data(df):\n",
    "    # print to screen the first 10 row of the data\n",
    "    print('The first 10 rows of data is:\\n')\n",
    "    print(df.head(10))\n",
    "    # creat a test dataframe with first 1000 entries\n",
    "    test_data = df.head(1000)\n",
    "    return test_data"
   ]
  },
  {
   "cell_type": "code",
   "execution_count": 127,
   "metadata": {},
   "outputs": [
    {
     "name": "stdout",
     "output_type": "stream",
     "text": [
      "The first 10 rows of data is:\n",
      "\n",
      "   Age  Gender  Impressions  Clicks  Signed_In\n",
      "0   36       0            3       0          1\n",
      "1   73       1            3       0          1\n",
      "2   30       0            3       0          1\n",
      "3   49       1            3       0          1\n",
      "4   47       1           11       0          1\n",
      "5   47       0           11       1          1\n",
      "6    0       0            7       1          0\n",
      "7   46       0            5       0          1\n",
      "8   16       0            3       0          1\n",
      "9   52       0            4       0          1\n"
     ]
    }
   ],
   "source": [
    "test_data = create_test_data(data)"
   ]
  },
  {
   "cell_type": "code",
   "execution_count": 128,
   "metadata": {},
   "outputs": [
    {
     "name": "stdout",
     "output_type": "stream",
     "text": [
      "<class 'pandas.core.frame.DataFrame'>\n",
      "RangeIndex: 458441 entries, 0 to 458440\n",
      "Data columns (total 5 columns):\n",
      "Age            458441 non-null int64\n",
      "Gender         458441 non-null int64\n",
      "Impressions    458441 non-null int64\n",
      "Clicks         458441 non-null int64\n",
      "Signed_In      458441 non-null int64\n",
      "dtypes: int64(5)\n",
      "memory usage: 17.5 MB\n"
     ]
    }
   ],
   "source": [
    "data.info()"
   ]
  },
  {
   "cell_type": "code",
   "execution_count": 129,
   "metadata": {},
   "outputs": [
    {
     "data": {
      "text/plain": [
       "array([ 36,  73,  30,  49,  47,   0,  46,  16,  52,  21,  57,  31,  40,\n",
       "        38,  59,  61,  48,  29,  19,  23,  66,  44,  32,  22,  74,  65,\n",
       "        63,  35,  33,  34,  43,  18,  17,  62,  27,  11,  42,  41,  14,\n",
       "        64,  24,  26,  39,  71,  45,  28,  83,  79,  67,  51,  60,  58,\n",
       "        53,  25,  50,  76,  15,  78,  55,  37,  56,  77,  85,  82,  13,\n",
       "        70,  84,  54,  20,  10,  81,  68,  72,  69,  87,  80,  88,  12,\n",
       "        86,  75,  89,   9,  96, 102,  98,  90,  99,  91,  92,  95,   8,\n",
       "        94,  93,  97,   7, 100, 103, 107, 101, 108, 104], dtype=int64)"
      ]
     },
     "execution_count": 129,
     "metadata": {},
     "output_type": "execute_result"
    }
   ],
   "source": [
    "data['Age'].unique()"
   ]
  },
  {
   "cell_type": "code",
   "execution_count": 130,
   "metadata": {},
   "outputs": [
    {
     "data": {
      "text/plain": [
       "Age            False\n",
       "Gender         False\n",
       "Impressions    False\n",
       "Clicks         False\n",
       "Signed_In      False\n",
       "dtype: bool"
      ]
     },
     "execution_count": 130,
     "metadata": {},
     "output_type": "execute_result"
    }
   ],
   "source": [
    "# check if there's null value contained in each column\n",
    "data.isnull().any()"
   ]
  },
  {
   "cell_type": "code",
   "execution_count": 131,
   "metadata": {},
   "outputs": [
    {
     "name": "stderr",
     "output_type": "stream",
     "text": [
      "C:\\Users\\Yunjia\\Anaconda3\\lib\\site-packages\\ipykernel_launcher.py:5: SettingWithCopyWarning: \n",
      "A value is trying to be set on a copy of a slice from a DataFrame.\n",
      "Try using .loc[row_indexer,col_indexer] = value instead\n",
      "\n",
      "See the caveats in the documentation: http://pandas.pydata.org/pandas-docs/stable/indexing.html#indexing-view-versus-copy\n",
      "  \"\"\"\n"
     ]
    }
   ],
   "source": [
    "# first binning strategy: by age group\n",
    "# age <=12: child, 13 < age <= 17: teenager, 18 < age <= 44: adult, 45 < age <= 60: middle-aged, age > 60: seniors\n",
    "bins_agegroup = [-math.inf, 12, 17, 44, 60, math.inf]\n",
    "label_ag = [1, 2, 3, 4, 5]\n",
    "test_data['age_group'] = pd.cut(test_data['Age'], bins = bins_agegroup, labels = label_ag)"
   ]
  },
  {
   "cell_type": "code",
   "execution_count": 132,
   "metadata": {},
   "outputs": [
    {
     "name": "stderr",
     "output_type": "stream",
     "text": [
      "C:\\Users\\Yunjia\\Anaconda3\\lib\\site-packages\\ipykernel_launcher.py:5: SettingWithCopyWarning: \n",
      "A value is trying to be set on a copy of a slice from a DataFrame.\n",
      "Try using .loc[row_indexer,col_indexer] = value instead\n",
      "\n",
      "See the caveats in the documentation: http://pandas.pydata.org/pandas-docs/stable/indexing.html#indexing-view-versus-copy\n",
      "  \"\"\"\n"
     ]
    }
   ],
   "source": [
    "# second binning strategy: by tens\n",
    "# age <= 20, 20 < age <= 30, 30 < age <= 40, 40 < age <= 50, 50 < age <= 60, 60 < age <= 70, age > 70\n",
    "bins_tens = [-math.inf, 20, 30, 40, 50, 60, 70, math.inf]\n",
    "label_tens = [1, 2, 3, 4, 5, 6, 7]\n",
    "test_data['age_tens'] = pd.cut(test_data['Age'], bins = bins_tens, labels = label_tens)"
   ]
  },
  {
   "cell_type": "code",
   "execution_count": 133,
   "metadata": {},
   "outputs": [
    {
     "name": "stderr",
     "output_type": "stream",
     "text": [
      "C:\\Users\\Yunjia\\Anaconda3\\lib\\site-packages\\ipykernel_launcher.py:4: SettingWithCopyWarning: \n",
      "A value is trying to be set on a copy of a slice from a DataFrame.\n",
      "Try using .loc[row_indexer,col_indexer] = value instead\n",
      "\n",
      "See the caveats in the documentation: http://pandas.pydata.org/pandas-docs/stable/indexing.html#indexing-view-versus-copy\n",
      "  after removing the cwd from sys.path.\n"
     ]
    }
   ],
   "source": [
    "# a column that represents the ratio between Impressions and Clicks is also good to be binned, therefore we can group\n",
    "# people to groups that shows how likely they would click an advertisement\n",
    "# Create a variable called ClickThrougRate (# of clicks/# of impressions)\n",
    "test_data['ClickThrougRate'] = test_data['Clicks'] / test_data['Impressions']"
   ]
  },
  {
   "cell_type": "code",
   "execution_count": 134,
   "metadata": {},
   "outputs": [],
   "source": [
    "# histogram of Impression based on gender\n",
    "\n",
    "def impression_by_gender(df):\n",
    "    male = df[df['Gender'] == 0]['Impressions']\n",
    "    female = df[df['Gender'] == 1]['Impressions']\n",
    "    fig, ax = plt.subplots(figsize = (10, 8))\n",
    "    ax.hist([male, female], label = ['M', 'F'])\n",
    "    ax.set_title(\"Histogram of Impressions by Gender\")\n",
    "    ax.set_xlabel(\"Number of Imporessions\")\n",
    "    ax.set_ylabel(\"Frequency\")\n",
    "    ax.legend(loc='upper right')\n",
    "    return fig"
   ]
  },
  {
   "cell_type": "code",
   "execution_count": 135,
   "metadata": {},
   "outputs": [
    {
     "name": "stderr",
     "output_type": "stream",
     "text": [
      "C:\\Users\\Yunjia\\Anaconda3\\lib\\site-packages\\numpy\\core\\fromnumeric.py:57: FutureWarning: reshape is deprecated and will raise in a subsequent release. Please use .values.reshape(...) instead\n",
      "  return getattr(obj, method)(*args, **kwds)\n"
     ]
    },
    {
     "data": {
      "image/png": "[encoded data removed]",
      "text/plain": [
       "<Figure size 720x576 with 1 Axes>"
      ]
     },
     "metadata": {},
     "output_type": "display_data"
    }
   ],
   "source": [
    "# output histogram\n",
    "hist_gender_impressions = impression_by_gender(test_data)"
   ]
  },
  {
   "cell_type": "code",
   "execution_count": 136,
   "metadata": {
    "collapsed": true
   },
   "outputs": [],
   "source": [
    "# histogram of Impressions based on age group\n",
    "def impression_by_age(df):\n",
    "    ag1 = df[df['age_group'] == 1]['Impressions']\n",
    "    ag2 = df[df['age_group'] == 2]['Impressions']\n",
    "    ag3 = df[df['age_group'] == 3]['Impressions']\n",
    "    ag4 = df[df['age_group'] == 4]['Impressions']\n",
    "    ag5 = df[df['age_group'] == 5]['Impressions']\n",
    "    fig, ax = plt.subplots(figsize = (10, 8))\n",
    "    ax.hist([ag1, ag2, ag3, ag4, ag5], label = ['Child', 'Teenager', 'Adult', 'Middle-age', 'Senior'])\n",
    "    ax.set_title(\"Histogram of Impressions by Age Group\")\n",
    "    ax.set_xlabel(\"Number of Imporessions\")\n",
    "    ax.set_ylabel(\"Frequency\")\n",
    "    ax.legend(loc='upper right')\n",
    "    return fig"
   ]
  },
  {
   "cell_type": "code",
   "execution_count": 137,
   "metadata": {
    "scrolled": false
   },
   "outputs": [
    {
     "name": "stderr",
     "output_type": "stream",
     "text": [
      "C:\\Users\\Yunjia\\Anaconda3\\lib\\site-packages\\numpy\\core\\fromnumeric.py:57: FutureWarning: reshape is deprecated and will raise in a subsequent release. Please use .values.reshape(...) instead\n",
      "  return getattr(obj, method)(*args, **kwds)\n"
     ]
    },
    {
     "data": {
      "image/png": "[encoded data removed]",
      "text/plain": [
       "<Figure size 720x576 with 1 Axes>"
      ]
     },
     "metadata": {},
     "output_type": "display_data"
    }
   ],
   "source": [
    "hist_age_impressions = impression_by_age(test_data)"
   ]
  },
  {
   "cell_type": "code",
   "execution_count": 144,
   "metadata": {},
   "outputs": [],
   "source": [
    "# Plot the distribution of the number of impressions for the age categories created.\n",
    "def hists_age_impressions(df):\n",
    "    # Get unique Age groups. Iterate through list and plot each histogram\n",
    "    ageSeries = df['age_group'].unique()\n",
    "    ageSeries.sort()\n",
    "    # Iterate through each age and generate the plot\n",
    "    counter = 1\n",
    "    for age in ageSeries:\n",
    "        # We need to select rows containing a particular age\n",
    "        queryString = \"age_group == \" + str(age)\n",
    "        ageGroupImpressions = df[['age_group', 'Impressions']].query(queryString)\n",
    "\n",
    "        # Create histogram and label it\n",
    "        ageGroupImpressions['Impressions'].hist()\n",
    "        titleLabel = \"Distribution of Impressions for Age Group \" + str(age)\n",
    "        plt.title(titleLabel)\n",
    "        plt.xlabel(\"Number of Impressions\")\n",
    "        plt.ylabel(\"Frequency\")\n",
    "\n",
    "        # Write to file\n",
    "        fileName = 'age' + str(counter) + '.png'\n",
    "        plt.savefig(fileName)\n",
    "\n",
    "        # Clear plot\n",
    "        plt.clf()\n",
    "        counter += 1"
   ]
  },
  {
   "cell_type": "code",
   "execution_count": 139,
   "metadata": {
    "collapsed": true
   },
   "outputs": [],
   "source": [
    "# try 3 different values of k of k-means clustering\n",
    "from sklearn.cluster import KMeans\n",
    "from sklearn.cluster import KMeans\n",
    "from sklearn import preprocessing\n",
    "from pprint import pprint\n",
    "from sklearn.metrics import silhouette_samples, silhouette_score, calinski_harabaz_score\n",
    "\n",
    "def kmeans_clustering(df, n):\n",
    "    myData = pd.concat([df['Age'], df['Gender'], df['Impressions'], df['Clicks'], df['Signed_In'], df['age_group'], df['ClickThrougRate']], \n",
    "                 axis=1, keys=['Age', 'Gender', 'Impressions', 'Clicks', 'Signed_In','age_group', 'ClickThrougRate' ])\n",
    "    myData = myData.dropna()\n",
    "    x = myData.values #returns a numpy array\n",
    "    min_max_scaler = preprocessing.MinMaxScaler()\n",
    "    x_scaled = min_max_scaler.fit_transform(x)\n",
    "    normalizedDataFrame = pd.DataFrame(x_scaled)\n",
    "    k = n\n",
    "    kmeans = KMeans(n_clusters=k)\n",
    "    cluster_labels = kmeans.fit_predict(normalizedDataFrame)\n",
    "    silhouette_avg = silhouette_score(normalizedDataFrame, cluster_labels)\n",
    "    #calinski_harabaz_avg = calinski_harabaz_score(normalizedDataFrame, cluster_labels)\n",
    "    print(\"For n_clusters =\", k, \"The average silhouette_score is :\", silhouette_avg)\n",
    "    #print(\"For n_clusters =\", k, \"The average calinski_harabaz_score is :\", calinski_harabaz_avg)"
   ]
  },
  {
   "cell_type": "code",
   "execution_count": 140,
   "metadata": {},
   "outputs": [
    {
     "name": "stderr",
     "output_type": "stream",
     "text": [
      "C:\\Users\\Yunjia\\Anaconda3\\lib\\site-packages\\sklearn\\utils\\validation.py:475: DataConversionWarning: Data with input dtype object was converted to float64 by MinMaxScaler.\n",
      "  warnings.warn(msg, DataConversionWarning)\n"
     ]
    },
    {
     "name": "stdout",
     "output_type": "stream",
     "text": [
      "For n_clusters = 3 The average silhouette_score is : 0.664103137401\n",
      "For n_clusters = 5 The average silhouette_score is : 0.541672130491\n",
      "For n_clusters = 10 The average silhouette_score is : 0.459208671435\n"
     ]
    }
   ],
   "source": [
    "kmeans_clustering(test_data, 3)\n",
    "kmeans_clustering(test_data, 5)\n",
    "kmeans_clustering(test_data, 10)"
   ]
  },
  {
   "cell_type": "code",
   "execution_count": 141,
   "metadata": {},
   "outputs": [
    {
     "name": "stderr",
     "output_type": "stream",
     "text": [
      "C:\\Users\\Yunjia\\Anaconda3\\lib\\site-packages\\ipykernel_launcher.py:16: SettingWithCopyWarning: \n",
      "A value is trying to be set on a copy of a slice from a DataFrame.\n",
      "Try using .loc[row_indexer,col_indexer] = value instead\n",
      "\n",
      "See the caveats in the documentation: http://pandas.pydata.org/pandas-docs/stable/indexing.html#indexing-view-versus-copy\n",
      "  app.launch_new_instance()\n"
     ]
    }
   ],
   "source": [
    "# CATEGORICAL VARIABLES\n",
    "# Create a new variable that categorizes behavior based on click-thru rate.\n",
    "# Create categories for click thru behavior. We can do this on the original data\n",
    "def click_behavior(row):\n",
    "   if row['Clicks'] > 0:\n",
    "      return 'Clicks'\n",
    "   if row['Impressions'] == 0:\n",
    "      return 'noImpressions'\n",
    "   if row['Impressions'] > 0:\n",
    "      return 'Impressions'\n",
    "\n",
    "   return 'Other'\n",
    "\n",
    "# Create a new variable that categorizes behavior based on click-thru rate.\n",
    "# Create categories for click thru behavior. We can do this on the original data\n",
    "test_data['clickBehavior']  = test_data.apply(lambda row: click_behavior(row), axis=1)"
   ]
  },
  {
   "cell_type": "code",
   "execution_count": 142,
   "metadata": {},
   "outputs": [],
   "source": [
    "def kmeans_clustering_new(df, n):\n",
    "    myData = pd.concat([df['Age'], df['Gender'], df['Impressions'], df['Clicks'], df['Signed_In'], df['age_group'], df['ClickThrougRate'], df['clickBehavior']], \n",
    "                 axis=1, keys=['Age', 'Gender', 'Impressions', 'Clicks', 'Signed_In','age_group', 'ClickThrougRate', 'clickBehavior'])\n",
    "    codes = {'Clicks': 1, 'Impressions': 2, 'noImpressions': 3, 'Other': 4}\n",
    "    myData['clickBehavior'] = myData['clickBehavior'].map(codes)\n",
    "    myData = myData.dropna()\n",
    "    x = myData.values #returns a numpy array\n",
    "    min_max_scaler = preprocessing.MinMaxScaler()\n",
    "    x_scaled = min_max_scaler.fit_transform(x)\n",
    "    normalizedDataFrame = pd.DataFrame(x_scaled)\n",
    "    k = n\n",
    "    kmeans = KMeans(n_clusters=k)\n",
    "    cluster_labels = kmeans.fit_predict(normalizedDataFrame)\n",
    "    silhouette_avg = silhouette_score(normalizedDataFrame, cluster_labels)\n",
    "    #calinski_harabaz_avg = calinski_harabaz_score(normalizedDataFrame, cluster_labels)\n",
    "    print(\"For n_clusters =\", k, \"The average silhouette_score is :\", silhouette_avg)\n",
    "    #print(\"For n_clusters =\", k, \"The average calinski_harabaz_score is :\", calinski_harabaz_avg)"
   ]
  },
  {
   "cell_type": "code",
   "execution_count": 143,
   "metadata": {},
   "outputs": [
    {
     "name": "stderr",
     "output_type": "stream",
     "text": [
      "C:\\Users\\Yunjia\\Anaconda3\\lib\\site-packages\\sklearn\\utils\\validation.py:475: DataConversionWarning: Data with input dtype object was converted to float64 by MinMaxScaler.\n",
      "  warnings.warn(msg, DataConversionWarning)\n"
     ]
    },
    {
     "name": "stdout",
     "output_type": "stream",
     "text": [
      "For n_clusters = 3 The average silhouette_score is : 0.622112818143\n",
      "For n_clusters = 5 The average silhouette_score is : 0.685666999816\n",
      "For n_clusters = 10 The average silhouette_score is : 0.558736335259\n"
     ]
    }
   ],
   "source": [
    "kmeans_clustering_new(test_data, 3)\n",
    "kmeans_clustering_new(test_data, 5)\n",
    "kmeans_clustering_new(test_data, 10)"
   ]
  },
  {
   "cell_type": "code",
   "execution_count": null,
   "metadata": {
    "collapsed": true
   },
   "outputs": [],
   "source": []
  }
 ],
 "metadata": {
  "kernelspec": {
   "display_name": "Python 3",
   "language": "python",
   "name": "python3"
  },
  "language_info": {
   "codemirror_mode": {
    "name": "ipython",
    "version": 3
   },
   "file_extension": ".py",
   "mimetype": "text/x-python",
   "name": "python",
   "nbconvert_exporter": "python",
   "pygments_lexer": "ipython3",
   "version": "3.6.3"
  }
 },
 "nbformat": 4,
 "nbformat_minor": 2
}
